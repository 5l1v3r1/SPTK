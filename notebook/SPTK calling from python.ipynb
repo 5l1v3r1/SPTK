{
 "metadata": {
  "name": "",
  "signature": "sha256:3c50e05aa3537a4bd223a144c3dbb097c68ca61b7759605607fdf28f9de642a1"
 },
 "nbformat": 3,
 "nbformat_minor": 0,
 "worksheets": [
  {
   "cells": [
    {
     "cell_type": "markdown",
     "metadata": {},
     "source": [
      "# SPTK\u3092python\u304b\u3089\u547c\u3076\n",
      "\n",
      "swig\u3092\u4f7f\u3063\u3066\u30e9\u30c3\u30d1\u30fc\u3092\u66f8\u304d\u307e\u3057\u305f\u3002\n",
      "https://github.com/r9y9/sptk/tree/python-binding-with-swig\n",
      "\n",
      "\u3068\u308a\u307e\u50d5\u304c\u4f7f\u3044\u305d\u3046\u306amcep\u3068swipe\u306f\u4f7f\u3044\u3084\u3059\u3044\u3088\u3046\u306b\u3055\u3089\u306b\u30e9\u30c3\u30d1\u30fc\u3092\u66f8\u3044\u305f\u3002"
     ]
    },
    {
     "cell_type": "code",
     "collapsed": false,
     "input": [
      "%pylab inline"
     ],
     "language": "python",
     "metadata": {},
     "outputs": [
      {
       "output_type": "stream",
       "stream": "stdout",
       "text": [
        "Populating the interactive namespace from numpy and matplotlib\n"
       ]
      }
     ],
     "prompt_number": 1
    },
    {
     "cell_type": "code",
     "collapsed": false,
     "input": [
      "import scipy.io.wavfile\n",
      "import sptk"
     ],
     "language": "python",
     "metadata": {},
     "outputs": [],
     "prompt_number": 2
    },
    {
     "cell_type": "code",
     "collapsed": false,
     "input": [
      "# read wavfile \"\u3042\u3089\u3086\u308b\u73fe\u5b9f\u3092\u3059\u3079\u3066\u81ea\u5206\u306e\u65b9\u3078\u306d\u3058\u307e\u3052\u305f\u306e\u3060\"\n",
      "fs, data = scipy.io.wavfile.read(\"test.wav\")\n",
      "data = np.array(data)\n",
      "\n",
      "# create slice for testing\n",
      "x = data[2000:2000+256]"
     ],
     "language": "python",
     "metadata": {},
     "outputs": [],
     "prompt_number": 3
    },
    {
     "cell_type": "code",
     "collapsed": false,
     "input": [
      "# Mel-Cepstrum\n",
      "mc = sptk.mcep(x, order=40, alpha=0.41)\n",
      "plot(mc, label=\"mcep\")\n",
      "legend()"
     ],
     "language": "python",
     "metadata": {},
     "outputs": [
      {
       "metadata": {},
       "output_type": "pyout",
       "prompt_number": 4,
       "text": [
        "<matplotlib.legend.Legend at 0x108e9b250>"
       ]
      },
      {
       "metadata": {},
       "output_type": "display_data",
       "png": "[encoded data removed]",
       "text": [
        "<matplotlib.figure.Figure at 0x108e9b150>"
       ]
      }
     ],
     "prompt_number": 4
    },
    {
     "cell_type": "code",
     "collapsed": false,
     "input": [
      "# F0 estimation\n",
      "f0 = sptk.swipe(data, samplerate=fs, frame_shift=80)\n",
      "plot(f0, label=\"f0\")"
     ],
     "language": "python",
     "metadata": {},
     "outputs": [
      {
       "metadata": {},
       "output_type": "pyout",
       "prompt_number": 5,
       "text": [
        "[<matplotlib.lines.Line2D at 0x108efb8d0>]"
       ]
      },
      {
       "metadata": {},
       "output_type": "display_data",
       "png": "[encoded data removed]",
       "text": [
        "<matplotlib.figure.Figure at 0x108eaa090>"
       ]
      }
     ],
     "prompt_number": 5
    },
    {
     "cell_type": "markdown",
     "metadata": {},
     "source": [
      "# \u30e1\u30e2"
     ]
    },
    {
     "cell_type": "code",
     "collapsed": false,
     "input": [
      "# sptklib\u306e\u547c\u3073\u51fa\u3057\u304c\u3067\u304d\u3066\u308b\u304b\u30c1\u30a7\u30c3\u30af\n",
      "print sptk.gexp(1, 3)"
     ],
     "language": "python",
     "metadata": {},
     "outputs": [
      {
       "output_type": "stream",
       "stream": "stdout",
       "text": [
        "4.0\n"
       ]
      }
     ],
     "prompt_number": 6
    },
    {
     "cell_type": "code",
     "collapsed": false,
     "input": [
      "import csptk\n",
      "\n",
      "# swig\u304c\u4f5c\u308b\u751f\u306e\u30e9\u30c3\u30d1\u30fc\u306b\u30a2\u30af\u30bb\u30b9\u3059\u308b\u306b\u306f\u3053\u3063\u3061\u3002csptk\u3092\u4f7f\u3046\u5834\u5408\u306f\u3001SPTK.h\u306b\u5ba3\u8a00\u3055\u308c\u3066\u3044\u308b\u95a2\u6570\u3092(\u3044\u3061\u304a\u3046)\u5168\u90e8\u4f7f\u3048\u308b\n",
      "print csptk.gexp(1, 3)"
     ],
     "language": "python",
     "metadata": {},
     "outputs": [
      {
       "output_type": "stream",
       "stream": "stdout",
       "text": [
        "4.0\n"
       ]
      }
     ],
     "prompt_number": 7
    },
    {
     "cell_type": "code",
     "collapsed": false,
     "input": [
      "# \u751f\u306e\u30e9\u30c3\u30d1\u30fc\u306f 'argname=\u307b\u3052' \u306e\u3088\u3046\u306a\u66f8\u304d\u65b9\u306f\u3067\u304d\u306a\u3044\n",
      "print csptk.gexp(r=1, x=3)"
     ],
     "language": "python",
     "metadata": {},
     "outputs": [
      {
       "ename": "TypeError",
       "evalue": "gexp() takes no keyword arguments",
       "output_type": "pyerr",
       "traceback": [
        "\u001b[0;31m---------------------------------------------------------------------------\u001b[0m\n\u001b[0;31mTypeError\u001b[0m                                 Traceback (most recent call last)",
        "\u001b[0;32m<ipython-input-8-6054f6aec2de>\u001b[0m in \u001b[0;36m<module>\u001b[0;34m()\u001b[0m\n\u001b[1;32m      1\u001b[0m \u001b[0;31m# \u751f\u306e\u30e9\u30c3\u30d1\u30fc\u306f 'argname=\u307b\u3052' \u306e\u3088\u3046\u306a\u66f8\u304d\u65b9\u306f\u3067\u304d\u306a\u3044\u001b[0m\u001b[0;34m\u001b[0m\u001b[0;34m\u001b[0m\u001b[0m\n\u001b[0;32m----> 2\u001b[0;31m \u001b[0;32mprint\u001b[0m \u001b[0mcsptk\u001b[0m\u001b[0;34m.\u001b[0m\u001b[0mgexp\u001b[0m\u001b[0;34m(\u001b[0m\u001b[0mr\u001b[0m\u001b[0;34m=\u001b[0m\u001b[0;36m1\u001b[0m\u001b[0;34m,\u001b[0m \u001b[0mx\u001b[0m\u001b[0;34m=\u001b[0m\u001b[0;36m3\u001b[0m\u001b[0;34m)\u001b[0m\u001b[0;34m\u001b[0m\u001b[0m\n\u001b[0m",
        "\u001b[0;31mTypeError\u001b[0m: gexp() takes no keyword arguments"
       ]
      }
     ],
     "prompt_number": 8
    },
    {
     "cell_type": "code",
     "collapsed": false,
     "input": [
      "# \u3053\u308c\u306fok\u3002\u305f\u3060\u3057swig\u3067\u306e\u81ea\u52d5\u751f\u6210\u3058\u3083\u306a\u304f\u3066\u81ea\u5206\u3067\u66f8\u3044\u3066\u308b sptk.py\u53c2\u7167\n",
      "print sptk.gexp(r=1, x=3)"
     ],
     "language": "python",
     "metadata": {},
     "outputs": [
      {
       "output_type": "stream",
       "stream": "stdout",
       "text": [
        "4.0\n"
       ]
      }
     ],
     "prompt_number": 9
    },
    {
     "cell_type": "code",
     "collapsed": false,
     "input": [],
     "language": "python",
     "metadata": {},
     "outputs": []
    }
   ],
   "metadata": {}
  }
 ]
}